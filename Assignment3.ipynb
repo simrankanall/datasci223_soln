{
  "cells": [
    {
      "cell_type": "markdown",
      "metadata": {
        "id": "fFG7RXKWuSD2"
      },
      "source": [
        "# Exercise: Analyzing Chinook Database\n",
        "\n",
        "Preparation I've done:\n",
        " - Retrieve the dataset and load it\n",
        " - Load the %sql extension and point it at the database\n",
        " - Display the tables and an example query\n",
        "\n",
        "Additional steps you might take:\n",
        " - Add libraries for visualization (matplotlib, seaborn, plotly)\n",
        " - Add libraries for statistics (numpy)\n",
        " - Explore the dataset using SQL and/or pandas\n",
        "\n",
        "----\n",
        "\n",
        "1. Retrieve a list of all the tracks in the database, displaying only the track name and the name of the album it belongs to. Limit the result to the first 5 rows.\n",
        "   > Operations: `SELECT`\n",
        "2. Find the total number of customers from each country. Display the country name and the corresponding count. Order the results by the count in descending order.\n",
        "   > Operations: `SELECT`, `COUNT`, `GROUP BY`, `ORDER BY`\n",
        "3. Identify the top 5 genres with the highest number of tracks. Display the genre name along with the total number of tracks for each genre.\n",
        "   > Operations: `SELECT`, `COUNT`, `GROUP BY`, `ORDER BY`\n",
        "4. Determine the average invoice total for each customer, considering both the album and individual track purchases. Display the customer's first and last name along with the average invoice total. Order the results by the average invoice total in descending order.\n",
        "   > Operations: `SELECT`, `AVG`, `JOIN`, `GROUP BY`, `ORDER BY`\n",
        "5. Identify the customer who spent the most on music purchases. Display the customer's first and last name, along with the total amount spent.\n",
        "   > Operations: `SELECT`, `SUM`, `JOIN`, `GROUP BY`, `ORDER BY`, `LIMIT`"
      ]
    },
    {
      "cell_type": "code",
      "source": [
        "from google.colab import files\n",
        "\n",
        "uploaded = files.upload()"
      ],
      "metadata": {
        "id": "02HtGD6eulUi",
        "colab": {
          "base_uri": "https://localhost:8080/",
          "height": 74
        },
        "outputId": "ae61f9d5-1d07-488f-e018-26f43dd41247"
      },
      "execution_count": 14,
      "outputs": [
        {
          "output_type": "display_data",
          "data": {
            "text/plain": [
              "<IPython.core.display.HTML object>"
            ],
            "text/html": [
              "\n",
              "     <input type=\"file\" id=\"files-5e276faf-e8ca-46c6-b9bb-ab07da134cf6\" name=\"files[]\" multiple disabled\n",
              "        style=\"border:none\" />\n",
              "     <output id=\"result-5e276faf-e8ca-46c6-b9bb-ab07da134cf6\">\n",
              "      Upload widget is only available when the cell has been executed in the\n",
              "      current browser session. Please rerun this cell to enable.\n",
              "      </output>\n",
              "      <script>// Copyright 2017 Google LLC\n",
              "//\n",
              "// Licensed under the Apache License, Version 2.0 (the \"License\");\n",
              "// you may not use this file except in compliance with the License.\n",
              "// You may obtain a copy of the License at\n",
              "//\n",
              "//      http://www.apache.org/licenses/LICENSE-2.0\n",
              "//\n",
              "// Unless required by applicable law or agreed to in writing, software\n",
              "// distributed under the License is distributed on an \"AS IS\" BASIS,\n",
              "// WITHOUT WARRANTIES OR CONDITIONS OF ANY KIND, either express or implied.\n",
              "// See the License for the specific language governing permissions and\n",
              "// limitations under the License.\n",
              "\n",
              "/**\n",
              " * @fileoverview Helpers for google.colab Python module.\n",
              " */\n",
              "(function(scope) {\n",
              "function span(text, styleAttributes = {}) {\n",
              "  const element = document.createElement('span');\n",
              "  element.textContent = text;\n",
              "  for (const key of Object.keys(styleAttributes)) {\n",
              "    element.style[key] = styleAttributes[key];\n",
              "  }\n",
              "  return element;\n",
              "}\n",
              "\n",
              "// Max number of bytes which will be uploaded at a time.\n",
              "const MAX_PAYLOAD_SIZE = 100 * 1024;\n",
              "\n",
              "function _uploadFiles(inputId, outputId) {\n",
              "  const steps = uploadFilesStep(inputId, outputId);\n",
              "  const outputElement = document.getElementById(outputId);\n",
              "  // Cache steps on the outputElement to make it available for the next call\n",
              "  // to uploadFilesContinue from Python.\n",
              "  outputElement.steps = steps;\n",
              "\n",
              "  return _uploadFilesContinue(outputId);\n",
              "}\n",
              "\n",
              "// This is roughly an async generator (not supported in the browser yet),\n",
              "// where there are multiple asynchronous steps and the Python side is going\n",
              "// to poll for completion of each step.\n",
              "// This uses a Promise to block the python side on completion of each step,\n",
              "// then passes the result of the previous step as the input to the next step.\n",
              "function _uploadFilesContinue(outputId) {\n",
              "  const outputElement = document.getElementById(outputId);\n",
              "  const steps = outputElement.steps;\n",
              "\n",
              "  const next = steps.next(outputElement.lastPromiseValue);\n",
              "  return Promise.resolve(next.value.promise).then((value) => {\n",
              "    // Cache the last promise value to make it available to the next\n",
              "    // step of the generator.\n",
              "    outputElement.lastPromiseValue = value;\n",
              "    return next.value.response;\n",
              "  });\n",
              "}\n",
              "\n",
              "/**\n",
              " * Generator function which is called between each async step of the upload\n",
              " * process.\n",
              " * @param {string} inputId Element ID of the input file picker element.\n",
              " * @param {string} outputId Element ID of the output display.\n",
              " * @return {!Iterable<!Object>} Iterable of next steps.\n",
              " */\n",
              "function* uploadFilesStep(inputId, outputId) {\n",
              "  const inputElement = document.getElementById(inputId);\n",
              "  inputElement.disabled = false;\n",
              "\n",
              "  const outputElement = document.getElementById(outputId);\n",
              "  outputElement.innerHTML = '';\n",
              "\n",
              "  const pickedPromise = new Promise((resolve) => {\n",
              "    inputElement.addEventListener('change', (e) => {\n",
              "      resolve(e.target.files);\n",
              "    });\n",
              "  });\n",
              "\n",
              "  const cancel = document.createElement('button');\n",
              "  inputElement.parentElement.appendChild(cancel);\n",
              "  cancel.textContent = 'Cancel upload';\n",
              "  const cancelPromise = new Promise((resolve) => {\n",
              "    cancel.onclick = () => {\n",
              "      resolve(null);\n",
              "    };\n",
              "  });\n",
              "\n",
              "  // Wait for the user to pick the files.\n",
              "  const files = yield {\n",
              "    promise: Promise.race([pickedPromise, cancelPromise]),\n",
              "    response: {\n",
              "      action: 'starting',\n",
              "    }\n",
              "  };\n",
              "\n",
              "  cancel.remove();\n",
              "\n",
              "  // Disable the input element since further picks are not allowed.\n",
              "  inputElement.disabled = true;\n",
              "\n",
              "  if (!files) {\n",
              "    return {\n",
              "      response: {\n",
              "        action: 'complete',\n",
              "      }\n",
              "    };\n",
              "  }\n",
              "\n",
              "  for (const file of files) {\n",
              "    const li = document.createElement('li');\n",
              "    li.append(span(file.name, {fontWeight: 'bold'}));\n",
              "    li.append(span(\n",
              "        `(${file.type || 'n/a'}) - ${file.size} bytes, ` +\n",
              "        `last modified: ${\n",
              "            file.lastModifiedDate ? file.lastModifiedDate.toLocaleDateString() :\n",
              "                                    'n/a'} - `));\n",
              "    const percent = span('0% done');\n",
              "    li.appendChild(percent);\n",
              "\n",
              "    outputElement.appendChild(li);\n",
              "\n",
              "    const fileDataPromise = new Promise((resolve) => {\n",
              "      const reader = new FileReader();\n",
              "      reader.onload = (e) => {\n",
              "        resolve(e.target.result);\n",
              "      };\n",
              "      reader.readAsArrayBuffer(file);\n",
              "    });\n",
              "    // Wait for the data to be ready.\n",
              "    let fileData = yield {\n",
              "      promise: fileDataPromise,\n",
              "      response: {\n",
              "        action: 'continue',\n",
              "      }\n",
              "    };\n",
              "\n",
              "    // Use a chunked sending to avoid message size limits. See b/62115660.\n",
              "    let position = 0;\n",
              "    do {\n",
              "      const length = Math.min(fileData.byteLength - position, MAX_PAYLOAD_SIZE);\n",
              "      const chunk = new Uint8Array(fileData, position, length);\n",
              "      position += length;\n",
              "\n",
              "      const base64 = btoa(String.fromCharCode.apply(null, chunk));\n",
              "      yield {\n",
              "        response: {\n",
              "          action: 'append',\n",
              "          file: file.name,\n",
              "          data: base64,\n",
              "        },\n",
              "      };\n",
              "\n",
              "      let percentDone = fileData.byteLength === 0 ?\n",
              "          100 :\n",
              "          Math.round((position / fileData.byteLength) * 100);\n",
              "      percent.textContent = `${percentDone}% done`;\n",
              "\n",
              "    } while (position < fileData.byteLength);\n",
              "  }\n",
              "\n",
              "  // All done.\n",
              "  yield {\n",
              "    response: {\n",
              "      action: 'complete',\n",
              "    }\n",
              "  };\n",
              "}\n",
              "\n",
              "scope.google = scope.google || {};\n",
              "scope.google.colab = scope.google.colab || {};\n",
              "scope.google.colab._files = {\n",
              "  _uploadFiles,\n",
              "  _uploadFilesContinue,\n",
              "};\n",
              "})(self);\n",
              "</script> "
            ]
          },
          "metadata": {}
        },
        {
          "output_type": "stream",
          "name": "stdout",
          "text": [
            "Saving chinook.sqlite to chinook (1).sqlite\n"
          ]
        }
      ]
    },
    {
      "cell_type": "code",
      "source": [
        "import sqlite3 #checking the table names\n",
        "\n",
        "# Connect to the database\n",
        "conn = sqlite3.connect('chinook (1).sqlite')\n",
        "\n",
        "# Get cursor\n",
        "cursor = conn.cursor()\n",
        "\n",
        "# List tables\n",
        "cursor.execute(\"SELECT name FROM sqlite_master WHERE type='table';\")\n",
        "print(cursor.fetchall())\n",
        "\n",
        "# Close connection\n",
        "conn.close()\n"
      ],
      "metadata": {
        "colab": {
          "base_uri": "https://localhost:8080/"
        },
        "id": "cAk5wnKePpYK",
        "outputId": "b14af040-5032-4937-fbf1-8f1662a66267"
      },
      "execution_count": 18,
      "outputs": [
        {
          "output_type": "stream",
          "name": "stdout",
          "text": [
            "[('albums',), ('sqlite_sequence',), ('artists',), ('customers',), ('employees',), ('genres',), ('invoices',), ('invoice_items',), ('media_types',), ('playlists',), ('playlist_track',), ('tracks',), ('sqlite_stat1',)]\n"
          ]
        }
      ]
    },
    {
      "cell_type": "code",
      "execution_count": null,
      "metadata": {
        "id": "Ax6wXLcsuSD5"
      },
      "outputs": [],
      "source": [
        "# Load chinook dataset and query it using SQL magic into pandas dataframes\n",
        "import pandas as pd\n",
        "import sqlite3\n",
        "%reload_ext sql\n",
        "\n",
        "# List tables in database\n",
        "query = \"SELECT name FROM sqlite_master WHERE type='table';\"\n",
        "\n",
        "# Read data into a Pandas DataFrame\n",
        "tables = %sql $query\n",
        "\n",
        "# Print head\n",
        "display(tables)\n",
        "\n",
        "# Query to get the first 5 rows of the `albums` table\n",
        "result = %sql SELECT * FROM albums LIMIT 5;\n",
        "\n",
        "# Display query result, note that Pandas DataFrame is returned!\n",
        "display(result)\n"
      ]
    },
    {
      "cell_type": "code",
      "execution_count": null,
      "metadata": {
        "id": "1QwxstrsuSD6"
      },
      "outputs": [],
      "source": [
        "#Adding libraries for visualization (matplotlib, seaborn, plotly)\n",
        "!pip install matplotlib seaborn plotly\n",
        "import matplotlib.pyplot as plt\n",
        "import seaborn as sns\n",
        "import plotly.express as px\n",
        "!pip install numpy\n",
        "import numpy as np #libraries for statistics (numpy)"
      ]
    },
    {
      "cell_type": "code",
      "source": [
        "#Retrieve a list of all the tracks in the database, displaying only the track name and the name of the album it belongs to.\n",
        "#Limit the result to the first 5 rows.\n",
        "\n",
        "result = %sql SELECT name AS \"Track Name\" \\\n",
        "                   , albumid AS \"Album Title\" \\\n",
        "                FROM tracks \\\n",
        "               LIMIT 5;\n",
        "result = pd.read_sql_query(query, conn)\n",
        "\n",
        "# Display query result\n",
        "print(result)"
      ],
      "metadata": {
        "id": "O-2SVuEkvqsL"
      },
      "execution_count": null,
      "outputs": []
    },
    {
      "cell_type": "code",
      "source": [
        "#Find the total number of customers from each country. Display the country name and the corresponding count.\n",
        "#Order the results by the count in descending order.\n",
        "\n",
        "result = %sql SELECT country AS \"Country\" \\\n",
        "                   , COUNT(*) AS \"Number of Customers\" \\\n",
        "                FROM customers \\\n",
        "            GROUP BY country \\\n",
        "            ORDER BY COUNT(*) DESC"
      ],
      "metadata": {
        "id": "hkbQWQqOzJMI"
      },
      "execution_count": null,
      "outputs": []
    },
    {
      "cell_type": "code",
      "source": [
        "#Identify the top 5 genres with the highest number of tracks.\n",
        "#Display the genre name along with the total number of tracks for each genre.\n",
        "result = %sql SELECT g.name AS \"Genre\" \\\n",
        "                   , COUNT(t.trackid) AS \"Number of Tracks\" \\\n",
        "                FROM genres g \\\n",
        "                JOIN tracks t ON g.genreid = t.genreid \\\n",
        "            GROUP BY g.name \\\n",
        "            ORDER BY COUNT(t.trackid) DESC \\\n",
        "               LIMIT 5\n",
        "print(result)\n"
      ],
      "metadata": {
        "id": "QHP0SgWMzMfy"
      },
      "execution_count": null,
      "outputs": []
    },
    {
      "cell_type": "code",
      "source": [
        "#Determine the average invoice total for each customer, considering both the album and individual track purchases. Display the customer's first and last name along with the average invoice total. Order the results by the average invoice total in descending order.\n",
        "result = %sql SELECT c.firstname AS \"First Name\" \\\n",
        "                   , c.lastname AS \"Last Name\" \\\n",
        "                   , AVG(i.total) AS \"Average Invoice Total\" \\\n",
        "                FROM customers c \\\n",
        "                JOIN invoices i ON c.customerid = i.customerid \\\n",
        "            GROUP BY c.customerid \\\n",
        "            ORDER BY AVG(i.total) DESC\n",
        "\n",
        "print(result.head())"
      ],
      "metadata": {
        "id": "GQ9xQmIBzRZM"
      },
      "execution_count": null,
      "outputs": []
    },
    {
      "cell_type": "code",
      "source": [
        "#Identify the customer who spent the most on music purchases.\n",
        "#Display the customer's first and last name, along with the total amount spent.\n",
        "\n",
        "result = %sql SELECT c.firstname AS \"First Name\" \\\n",
        "                   , c.lastname AS \"Last Name\" \\\n",
        "                   , SUM(i.total) AS \"Total Amount Spent\" \\\n",
        "                FROM customers c \\\n",
        "                JOIN invoices i ON c.customerid = i.customerid \\\n",
        "            GROUP BY c.customerid \\\n",
        "            ORDER BY SUM(i.total) DESC \\\n",
        "               LIMIT 1\n",
        "\n",
        "display(result)"
      ],
      "metadata": {
        "id": "C5uQwklXzVRp"
      },
      "execution_count": null,
      "outputs": []
    }
  ],
  "metadata": {
    "kernelspec": {
      "display_name": ".venv",
      "language": "python",
      "name": "python3"
    },
    "language_info": {
      "codemirror_mode": {
        "name": "ipython",
        "version": 3
      },
      "file_extension": ".py",
      "mimetype": "text/x-python",
      "name": "python",
      "nbconvert_exporter": "python",
      "pygments_lexer": "ipython3",
      "version": "3.12.1"
    },
    "colab": {
      "provenance": []
    }
  },
  "nbformat": 4,
  "nbformat_minor": 0
}